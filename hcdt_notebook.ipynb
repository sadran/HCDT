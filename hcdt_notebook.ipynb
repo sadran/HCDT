{
 "cells": [
  {
   "cell_type": "markdown",
   "metadata": {},
   "source": [
    "# HCDT Framework"
   ]
  },
  {
   "cell_type": "markdown",
   "metadata": {},
   "source": [
    "## Initialize the clinic"
   ]
  },
  {
   "cell_type": "code",
   "execution_count": 1,
   "metadata": {},
   "outputs": [
    {
     "name": "stderr",
     "output_type": "stream",
     "text": [
      "/opt/homebrew/anaconda3/envs/hcdt/lib/python3.13/site-packages/tqdm/auto.py:21: TqdmWarning: IProgress not found. Please update jupyter and ipywidgets. See https://ipywidgets.readthedocs.io/en/stable/user_install.html\n",
      "  from .autonotebook import tqdm as notebook_tqdm\n"
     ]
    }
   ],
   "source": [
    "from hcdt import Clinic\n",
    "import yaml"
   ]
  },
  {
   "cell_type": "code",
   "execution_count": 2,
   "metadata": {},
   "outputs": [],
   "source": [
    "# Make a clinic instance\n",
    "clinic = Clinic()"
   ]
  },
  {
   "cell_type": "markdown",
   "metadata": {},
   "source": [
    "Loading the EHR data to the clinic"
   ]
  },
  {
   "cell_type": "code",
   "execution_count": 3,
   "metadata": {},
   "outputs": [
    {
     "name": "stdout",
     "output_type": "stream",
     "text": [
      "Data loaded successfully to the clinic\n"
     ]
    }
   ],
   "source": [
    "try:\n",
    "    # Load data configuration\n",
    "    with open(\"configs/data_config.yaml\", \"r\") as file:\n",
    "        data_config = yaml.safe_load(file)\n",
    "except FileNotFoundError as e: \n",
    "    print(f\"Error: {e}\")\n",
    "    exit(1)\n",
    "\n",
    "# Load data to the clinic\n",
    "try:\n",
    "    clinic.load_dataset(data_config)\n",
    "except Exception as e:\n",
    "    print(f\"Error: {e}\")\n",
    "    exit(1)\n",
    "print(\"Data loaded successfully to the clinic\")\n"
   ]
  },
  {
   "cell_type": "markdown",
   "metadata": {},
   "source": [
    "Loading available models' configuration"
   ]
  },
  {
   "cell_type": "code",
   "execution_count": 4,
   "metadata": {},
   "outputs": [
    {
     "name": "stdout",
     "output_type": "stream",
     "text": [
      "available models:  ['chatgpt', 'medllama']\n"
     ]
    }
   ],
   "source": [
    "try:\n",
    "    # Load models configuration\n",
    "    with open(\"configs/models_config.yaml\", \"r\") as file:\n",
    "        models_config = yaml.safe_load(file)\n",
    "except FileNotFoundError as e: \n",
    "    print(f\"Error: {e}\")\n",
    "    exit(1)\n",
    "print(\"available models: \", list(models_config.keys()))"
   ]
  },
  {
   "cell_type": "markdown",
   "metadata": {},
   "source": [
    "Setting the clinic's assistant model "
   ]
  },
  {
   "cell_type": "code",
   "execution_count": 5,
   "metadata": {},
   "outputs": [
    {
     "name": "stdout",
     "output_type": "stream",
     "text": [
      "Model chatgpt loaded successfully to the clinic\n"
     ]
    }
   ],
   "source": [
    "model_name = \"chatgpt\"\n",
    "# Load model to the clinic\n",
    "try:\n",
    "    clinic.set_assistant_model(models_config[model_name])\n",
    "except Exception as e:\n",
    "    print(f\"Error: {e}\")\n",
    "    exit(1)\n",
    "print(f\"Model {model_name} loaded successfully to the clinic\")"
   ]
  },
  {
   "cell_type": "markdown",
   "metadata": {},
   "source": [
    "## Choose a Patient EHR"
   ]
  },
  {
   "cell_type": "markdown",
   "metadata": {},
   "source": [
    "Choosing a random patient"
   ]
  },
  {
   "cell_type": "code",
   "execution_count": 13,
   "metadata": {},
   "outputs": [
    {
     "name": "stdout",
     "output_type": "stream",
     "text": [
      "Patient id: 29c04840-6976-4653-8604-61434756f308\n"
     ]
    }
   ],
   "source": [
    "from random import choice\n",
    "# choosing a random patient\n",
    "patient_ids = clinic.get_patient_ids()\n",
    "patient_id = choice(patient_ids)\n",
    "print(f\"Patient id: {patient_id}\")"
   ]
  },
  {
   "cell_type": "markdown",
   "metadata": {},
   "source": [
    "## Display the Patient EHR"
   ]
  },
  {
   "cell_type": "markdown",
   "metadata": {},
   "source": [
    "Showing the patient EHR"
   ]
  },
  {
   "cell_type": "code",
   "execution_count": 15,
   "metadata": {},
   "outputs": [
    {
     "name": "stdout",
     "output_type": "stream",
     "text": [
      "Patient Demographics\n"
     ]
    },
    {
     "data": {
      "text/plain": [
       "id            29c04840-6976-4653-8604-61434756f308\n",
       "first_name                             Demarcus108\n",
       "last_name                               Gerlach374\n",
       "gender                                           M\n",
       "age                                             19\n",
       "dtype: object"
      ]
     },
     "metadata": {},
     "output_type": "display_data"
    },
    {
     "name": "stdout",
     "output_type": "stream",
     "text": [
      "Patient Conditions\n"
     ]
    },
    {
     "data": {
      "text/html": [
       "<div>\n",
       "<style scoped>\n",
       "    .dataframe tbody tr th:only-of-type {\n",
       "        vertical-align: middle;\n",
       "    }\n",
       "\n",
       "    .dataframe tbody tr th {\n",
       "        vertical-align: top;\n",
       "    }\n",
       "\n",
       "    .dataframe thead th {\n",
       "        text-align: right;\n",
       "    }\n",
       "</style>\n",
       "<table border=\"1\" class=\"dataframe\">\n",
       "  <thead>\n",
       "    <tr style=\"text-align: right;\">\n",
       "      <th></th>\n",
       "      <th>START</th>\n",
       "      <th>STOP</th>\n",
       "      <th>DESCRIPTION</th>\n",
       "    </tr>\n",
       "  </thead>\n",
       "  <tbody>\n",
       "    <tr>\n",
       "      <th>0</th>\n",
       "      <td>2009-10-13</td>\n",
       "      <td>2010-06-16</td>\n",
       "      <td>Otitis media</td>\n",
       "    </tr>\n",
       "    <tr>\n",
       "      <th>1</th>\n",
       "      <td>2011-11-29</td>\n",
       "      <td>2011-12-13</td>\n",
       "      <td>Viral sinusitis (disorder)</td>\n",
       "    </tr>\n",
       "    <tr>\n",
       "      <th>2</th>\n",
       "      <td>2017-07-26</td>\n",
       "      <td>NaN</td>\n",
       "      <td>Body mass index 30+ - obesity (finding)</td>\n",
       "    </tr>\n",
       "    <tr>\n",
       "      <th>3</th>\n",
       "      <td>2018-06-19</td>\n",
       "      <td>2018-07-03</td>\n",
       "      <td>Viral sinusitis (disorder)</td>\n",
       "    </tr>\n",
       "    <tr>\n",
       "      <th>4</th>\n",
       "      <td>2018-12-25</td>\n",
       "      <td>2019-01-08</td>\n",
       "      <td>Acute bronchitis (disorder)</td>\n",
       "    </tr>\n",
       "  </tbody>\n",
       "</table>\n",
       "</div>"
      ],
      "text/plain": [
       "        START        STOP                              DESCRIPTION\n",
       "0  2009-10-13  2010-06-16                             Otitis media\n",
       "1  2011-11-29  2011-12-13               Viral sinusitis (disorder)\n",
       "2  2017-07-26         NaN  Body mass index 30+ - obesity (finding)\n",
       "3  2018-06-19  2018-07-03               Viral sinusitis (disorder)\n",
       "4  2018-12-25  2019-01-08              Acute bronchitis (disorder)"
      ]
     },
     "metadata": {},
     "output_type": "display_data"
    },
    {
     "name": "stdout",
     "output_type": "stream",
     "text": [
      "Patient Encounters\n"
     ]
    },
    {
     "data": {
      "text/html": [
       "<div>\n",
       "<style scoped>\n",
       "    .dataframe tbody tr th:only-of-type {\n",
       "        vertical-align: middle;\n",
       "    }\n",
       "\n",
       "    .dataframe tbody tr th {\n",
       "        vertical-align: top;\n",
       "    }\n",
       "\n",
       "    .dataframe thead th {\n",
       "        text-align: right;\n",
       "    }\n",
       "</style>\n",
       "<table border=\"1\" class=\"dataframe\">\n",
       "  <thead>\n",
       "    <tr style=\"text-align: right;\">\n",
       "      <th></th>\n",
       "      <th>START</th>\n",
       "      <th>STOP</th>\n",
       "      <th>DESCRIPTION</th>\n",
       "      <th>REASONDESCRIPTION</th>\n",
       "    </tr>\n",
       "  </thead>\n",
       "  <tbody>\n",
       "    <tr>\n",
       "      <th>0</th>\n",
       "      <td>2009-10-13T04:43:33Z</td>\n",
       "      <td>2009-10-13T04:58:33Z</td>\n",
       "      <td>Encounter for symptom</td>\n",
       "      <td>Otitis media</td>\n",
       "    </tr>\n",
       "    <tr>\n",
       "      <th>1</th>\n",
       "      <td>2010-06-16T04:43:33Z</td>\n",
       "      <td>2010-06-16T04:58:33Z</td>\n",
       "      <td>Well child visit (procedure)</td>\n",
       "      <td>NaN</td>\n",
       "    </tr>\n",
       "    <tr>\n",
       "      <th>2</th>\n",
       "      <td>2011-06-22T04:43:33Z</td>\n",
       "      <td>2011-06-22T04:58:33Z</td>\n",
       "      <td>Well child visit (procedure)</td>\n",
       "      <td>NaN</td>\n",
       "    </tr>\n",
       "    <tr>\n",
       "      <th>3</th>\n",
       "      <td>2011-11-30T04:43:33Z</td>\n",
       "      <td>2011-11-30T04:58:33Z</td>\n",
       "      <td>Encounter for symptom</td>\n",
       "      <td>Viral sinusitis (disorder)</td>\n",
       "    </tr>\n",
       "    <tr>\n",
       "      <th>4</th>\n",
       "      <td>2012-06-27T04:43:33Z</td>\n",
       "      <td>2012-06-27T04:58:33Z</td>\n",
       "      <td>Well child visit (procedure)</td>\n",
       "      <td>NaN</td>\n",
       "    </tr>\n",
       "    <tr>\n",
       "      <th>5</th>\n",
       "      <td>2013-07-03T04:43:33Z</td>\n",
       "      <td>2013-07-03T04:58:33Z</td>\n",
       "      <td>Well child visit (procedure)</td>\n",
       "      <td>NaN</td>\n",
       "    </tr>\n",
       "    <tr>\n",
       "      <th>6</th>\n",
       "      <td>2014-07-09T04:43:33Z</td>\n",
       "      <td>2014-07-09T04:58:33Z</td>\n",
       "      <td>Well child visit (procedure)</td>\n",
       "      <td>NaN</td>\n",
       "    </tr>\n",
       "    <tr>\n",
       "      <th>7</th>\n",
       "      <td>2015-07-15T04:43:33Z</td>\n",
       "      <td>2015-07-15T05:13:33Z</td>\n",
       "      <td>Well child visit (procedure)</td>\n",
       "      <td>NaN</td>\n",
       "    </tr>\n",
       "    <tr>\n",
       "      <th>8</th>\n",
       "      <td>2016-07-20T04:43:33Z</td>\n",
       "      <td>2016-07-20T05:13:33Z</td>\n",
       "      <td>Well child visit (procedure)</td>\n",
       "      <td>NaN</td>\n",
       "    </tr>\n",
       "    <tr>\n",
       "      <th>9</th>\n",
       "      <td>2017-07-26T04:43:33Z</td>\n",
       "      <td>2017-07-26T05:13:33Z</td>\n",
       "      <td>Well child visit (procedure)</td>\n",
       "      <td>NaN</td>\n",
       "    </tr>\n",
       "    <tr>\n",
       "      <th>10</th>\n",
       "      <td>2018-06-19T04:43:33Z</td>\n",
       "      <td>2018-06-19T04:58:33Z</td>\n",
       "      <td>Encounter for symptom</td>\n",
       "      <td>Viral sinusitis (disorder)</td>\n",
       "    </tr>\n",
       "    <tr>\n",
       "      <th>11</th>\n",
       "      <td>2018-08-01T04:43:33Z</td>\n",
       "      <td>2018-08-01T04:58:33Z</td>\n",
       "      <td>Well child visit (procedure)</td>\n",
       "      <td>NaN</td>\n",
       "    </tr>\n",
       "    <tr>\n",
       "      <th>12</th>\n",
       "      <td>2018-12-26T04:43:33Z</td>\n",
       "      <td>2018-12-26T05:16:33Z</td>\n",
       "      <td>Encounter for symptom</td>\n",
       "      <td>Acute bronchitis (disorder)</td>\n",
       "    </tr>\n",
       "    <tr>\n",
       "      <th>13</th>\n",
       "      <td>2019-08-07T04:43:33Z</td>\n",
       "      <td>2019-08-07T05:13:33Z</td>\n",
       "      <td>Well child visit (procedure)</td>\n",
       "      <td>NaN</td>\n",
       "    </tr>\n",
       "  </tbody>\n",
       "</table>\n",
       "</div>"
      ],
      "text/plain": [
       "                   START                  STOP                   DESCRIPTION  \\\n",
       "0   2009-10-13T04:43:33Z  2009-10-13T04:58:33Z         Encounter for symptom   \n",
       "1   2010-06-16T04:43:33Z  2010-06-16T04:58:33Z  Well child visit (procedure)   \n",
       "2   2011-06-22T04:43:33Z  2011-06-22T04:58:33Z  Well child visit (procedure)   \n",
       "3   2011-11-30T04:43:33Z  2011-11-30T04:58:33Z         Encounter for symptom   \n",
       "4   2012-06-27T04:43:33Z  2012-06-27T04:58:33Z  Well child visit (procedure)   \n",
       "5   2013-07-03T04:43:33Z  2013-07-03T04:58:33Z  Well child visit (procedure)   \n",
       "6   2014-07-09T04:43:33Z  2014-07-09T04:58:33Z  Well child visit (procedure)   \n",
       "7   2015-07-15T04:43:33Z  2015-07-15T05:13:33Z  Well child visit (procedure)   \n",
       "8   2016-07-20T04:43:33Z  2016-07-20T05:13:33Z  Well child visit (procedure)   \n",
       "9   2017-07-26T04:43:33Z  2017-07-26T05:13:33Z  Well child visit (procedure)   \n",
       "10  2018-06-19T04:43:33Z  2018-06-19T04:58:33Z         Encounter for symptom   \n",
       "11  2018-08-01T04:43:33Z  2018-08-01T04:58:33Z  Well child visit (procedure)   \n",
       "12  2018-12-26T04:43:33Z  2018-12-26T05:16:33Z         Encounter for symptom   \n",
       "13  2019-08-07T04:43:33Z  2019-08-07T05:13:33Z  Well child visit (procedure)   \n",
       "\n",
       "              REASONDESCRIPTION  \n",
       "0                  Otitis media  \n",
       "1                           NaN  \n",
       "2                           NaN  \n",
       "3    Viral sinusitis (disorder)  \n",
       "4                           NaN  \n",
       "5                           NaN  \n",
       "6                           NaN  \n",
       "7                           NaN  \n",
       "8                           NaN  \n",
       "9                           NaN  \n",
       "10   Viral sinusitis (disorder)  \n",
       "11                          NaN  \n",
       "12  Acute bronchitis (disorder)  \n",
       "13                          NaN  "
      ]
     },
     "metadata": {},
     "output_type": "display_data"
    },
    {
     "name": "stdout",
     "output_type": "stream",
     "text": [
      "Patient Medications\n"
     ]
    },
    {
     "data": {
      "text/html": [
       "<div>\n",
       "<style scoped>\n",
       "    .dataframe tbody tr th:only-of-type {\n",
       "        vertical-align: middle;\n",
       "    }\n",
       "\n",
       "    .dataframe tbody tr th {\n",
       "        vertical-align: top;\n",
       "    }\n",
       "\n",
       "    .dataframe thead th {\n",
       "        text-align: right;\n",
       "    }\n",
       "</style>\n",
       "<table border=\"1\" class=\"dataframe\">\n",
       "  <thead>\n",
       "    <tr style=\"text-align: right;\">\n",
       "      <th></th>\n",
       "      <th>START</th>\n",
       "      <th>STOP</th>\n",
       "      <th>DESCRIPTION</th>\n",
       "      <th>REASONDESCRIPTION</th>\n",
       "    </tr>\n",
       "  </thead>\n",
       "  <tbody>\n",
       "    <tr>\n",
       "      <th>0</th>\n",
       "      <td>2018-12-26T04:43:33Z</td>\n",
       "      <td>2019-01-09T04:43:33Z</td>\n",
       "      <td>Acetaminophen 325 MG Oral Tablet</td>\n",
       "      <td>Acute bronchitis (disorder)</td>\n",
       "    </tr>\n",
       "  </tbody>\n",
       "</table>\n",
       "</div>"
      ],
      "text/plain": [
       "                  START                  STOP  \\\n",
       "0  2018-12-26T04:43:33Z  2019-01-09T04:43:33Z   \n",
       "\n",
       "                        DESCRIPTION            REASONDESCRIPTION  \n",
       "0  Acetaminophen 325 MG Oral Tablet  Acute bronchitis (disorder)  "
      ]
     },
     "metadata": {},
     "output_type": "display_data"
    },
    {
     "name": "stdout",
     "output_type": "stream",
     "text": [
      "Patient Observations\n"
     ]
    },
    {
     "data": {
      "text/html": [
       "<div>\n",
       "<style scoped>\n",
       "    .dataframe tbody tr th:only-of-type {\n",
       "        vertical-align: middle;\n",
       "    }\n",
       "\n",
       "    .dataframe tbody tr th {\n",
       "        vertical-align: top;\n",
       "    }\n",
       "\n",
       "    .dataframe thead th {\n",
       "        text-align: right;\n",
       "    }\n",
       "</style>\n",
       "<table border=\"1\" class=\"dataframe\">\n",
       "  <thead>\n",
       "    <tr style=\"text-align: right;\">\n",
       "      <th></th>\n",
       "      <th>DATE</th>\n",
       "      <th>DESCRIPTION</th>\n",
       "      <th>VALUE</th>\n",
       "      <th>UNITS</th>\n",
       "    </tr>\n",
       "  </thead>\n",
       "  <tbody>\n",
       "    <tr>\n",
       "      <th>0</th>\n",
       "      <td>2010-06-16T04:43:33Z</td>\n",
       "      <td>Body Height</td>\n",
       "      <td>108.2</td>\n",
       "      <td>cm</td>\n",
       "    </tr>\n",
       "    <tr>\n",
       "      <th>1</th>\n",
       "      <td>2010-06-16T04:43:33Z</td>\n",
       "      <td>Pain severity - 0-10 verbal numeric rating [Sc...</td>\n",
       "      <td>2.0</td>\n",
       "      <td>{score}</td>\n",
       "    </tr>\n",
       "    <tr>\n",
       "      <th>2</th>\n",
       "      <td>2010-06-16T04:43:33Z</td>\n",
       "      <td>Body Weight</td>\n",
       "      <td>18.4</td>\n",
       "      <td>kg</td>\n",
       "    </tr>\n",
       "    <tr>\n",
       "      <th>3</th>\n",
       "      <td>2010-06-16T04:43:33Z</td>\n",
       "      <td>Body Mass Index</td>\n",
       "      <td>15.7</td>\n",
       "      <td>kg/m2</td>\n",
       "    </tr>\n",
       "    <tr>\n",
       "      <th>4</th>\n",
       "      <td>2010-06-16T04:43:33Z</td>\n",
       "      <td>Body mass index (BMI) [Percentile] Per age and...</td>\n",
       "      <td>58.6</td>\n",
       "      <td>%</td>\n",
       "    </tr>\n",
       "    <tr>\n",
       "      <th>...</th>\n",
       "      <td>...</td>\n",
       "      <td>...</td>\n",
       "      <td>...</td>\n",
       "      <td>...</td>\n",
       "    </tr>\n",
       "    <tr>\n",
       "      <th>147</th>\n",
       "      <td>2015-07-06T04:43:33Z</td>\n",
       "      <td>QOLS</td>\n",
       "      <td>1.0</td>\n",
       "      <td>{score}</td>\n",
       "    </tr>\n",
       "    <tr>\n",
       "      <th>148</th>\n",
       "      <td>2016-07-06T04:43:33Z</td>\n",
       "      <td>QOLS</td>\n",
       "      <td>1.0</td>\n",
       "      <td>{score}</td>\n",
       "    </tr>\n",
       "    <tr>\n",
       "      <th>149</th>\n",
       "      <td>2017-07-06T04:43:33Z</td>\n",
       "      <td>QOLS</td>\n",
       "      <td>1.0</td>\n",
       "      <td>{score}</td>\n",
       "    </tr>\n",
       "    <tr>\n",
       "      <th>150</th>\n",
       "      <td>2018-07-06T04:43:33Z</td>\n",
       "      <td>QOLS</td>\n",
       "      <td>1.0</td>\n",
       "      <td>{score}</td>\n",
       "    </tr>\n",
       "    <tr>\n",
       "      <th>151</th>\n",
       "      <td>2019-07-06T04:43:33Z</td>\n",
       "      <td>QOLS</td>\n",
       "      <td>1.0</td>\n",
       "      <td>{score}</td>\n",
       "    </tr>\n",
       "  </tbody>\n",
       "</table>\n",
       "<p>152 rows × 4 columns</p>\n",
       "</div>"
      ],
      "text/plain": [
       "                     DATE                                        DESCRIPTION  \\\n",
       "0    2010-06-16T04:43:33Z                                        Body Height   \n",
       "1    2010-06-16T04:43:33Z  Pain severity - 0-10 verbal numeric rating [Sc...   \n",
       "2    2010-06-16T04:43:33Z                                        Body Weight   \n",
       "3    2010-06-16T04:43:33Z                                    Body Mass Index   \n",
       "4    2010-06-16T04:43:33Z  Body mass index (BMI) [Percentile] Per age and...   \n",
       "..                    ...                                                ...   \n",
       "147  2015-07-06T04:43:33Z                                               QOLS   \n",
       "148  2016-07-06T04:43:33Z                                               QOLS   \n",
       "149  2017-07-06T04:43:33Z                                               QOLS   \n",
       "150  2018-07-06T04:43:33Z                                               QOLS   \n",
       "151  2019-07-06T04:43:33Z                                               QOLS   \n",
       "\n",
       "     VALUE    UNITS  \n",
       "0    108.2       cm  \n",
       "1      2.0  {score}  \n",
       "2     18.4       kg  \n",
       "3     15.7    kg/m2  \n",
       "4     58.6        %  \n",
       "..     ...      ...  \n",
       "147    1.0  {score}  \n",
       "148    1.0  {score}  \n",
       "149    1.0  {score}  \n",
       "150    1.0  {score}  \n",
       "151    1.0  {score}  \n",
       "\n",
       "[152 rows x 4 columns]"
      ]
     },
     "metadata": {},
     "output_type": "display_data"
    }
   ],
   "source": [
    "from IPython.display import display\n",
    "# Getting patient data\n",
    "patient_demographics = clinic.get_patient_info(patient_id)\n",
    "patient_conditions = clinic.get_patient_conditions(patient_id)\n",
    "patient_encounters = clinic.get_patient_encounters(patient_id)\n",
    "patient_medications = clinic.get_patient_medications(patient_id)\n",
    "patient_observations = clinic.get_patient_observations(patient_id)\n",
    "# Displaying patient data\n",
    "print(\"Patient Demographics\")\n",
    "display(patient_demographics)\n",
    "print(\"Patient Conditions\") \n",
    "display(patient_conditions)\n",
    "print(\"Patient Encounters\")\n",
    "display(patient_encounters)\n",
    "print(\"Patient Medications\")\n",
    "display(patient_medications)\n",
    "print(\"Patient Observations\")\n",
    "display(patient_observations)"
   ]
  },
  {
   "cell_type": "markdown",
   "metadata": {},
   "source": [
    "## Diagnose the Patient"
   ]
  },
  {
   "cell_type": "code",
   "execution_count": 16,
   "metadata": {},
   "outputs": [
    {
     "name": "stdout",
     "output_type": "stream",
     "text": [
      "Based on the patient's history, the patient's primary recurring condition appears to be viral sinusitis, encountered in 2011 and 2018. Other notable medical conditions include Otitis media in 2009 and acute bronchitis in 2018. The patient was diagnosed with obesity in 2017 which is a continuing condition. \n",
      "\n",
      "Considering the patient's ongoing obesity condition, any treatment plan should include lifestyle changes, such as diet and exercise, to address this issue. It's also notable that his body weight has been continuously increasing\n"
     ]
    }
   ],
   "source": [
    "print(clinic.diagnose_patient(patient_id))"
   ]
  },
  {
   "cell_type": "markdown",
   "metadata": {},
   "source": [
    "## Summarize the Patient"
   ]
  },
  {
   "cell_type": "code",
   "execution_count": 17,
   "metadata": {},
   "outputs": [
    {
     "name": "stdout",
     "output_type": "stream",
     "text": [
      "Patient Profile:\n",
      "\n",
      "- Gender: Male\n",
      "- Age: 19 years\n",
      "\n",
      "Medical History:\n",
      "\n",
      "- Has a history of Otitis media from October 13, 2009, to June 16, 2010.\n",
      "- Diagnosed with Viral sinusitis from November 29, 2011, to December 13, 2011, and from June 19, 2018, to July 3, 2018.\n",
      "- Considered obese (Body Mass Index 30+) as of July 26, 2017.\n",
      "- Had Acute bronch\n"
     ]
    }
   ],
   "source": [
    "print(clinic.summarize_patient(patient_id))"
   ]
  },
  {
   "cell_type": "code",
   "execution_count": null,
   "metadata": {},
   "outputs": [],
   "source": []
  }
 ],
 "metadata": {
  "kernelspec": {
   "display_name": "hcdt",
   "language": "python",
   "name": "python3"
  },
  "language_info": {
   "codemirror_mode": {
    "name": "ipython",
    "version": 3
   },
   "file_extension": ".py",
   "mimetype": "text/x-python",
   "name": "python",
   "nbconvert_exporter": "python",
   "pygments_lexer": "ipython3",
   "version": "3.13.2"
  }
 },
 "nbformat": 4,
 "nbformat_minor": 2
}
