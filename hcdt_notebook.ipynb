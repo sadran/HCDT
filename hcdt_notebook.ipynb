{
 "cells": [
  {
   "cell_type": "markdown",
   "metadata": {},
   "source": [
    "# HCDT Framework"
   ]
  },
  {
   "cell_type": "markdown",
   "metadata": {},
   "source": [
    "## Initialize the clinic"
   ]
  },
  {
   "cell_type": "code",
   "execution_count": 1,
   "metadata": {},
   "outputs": [
    {
     "name": "stderr",
     "output_type": "stream",
     "text": [
      "/opt/homebrew/anaconda3/envs/hcdt/lib/python3.13/site-packages/tqdm/auto.py:21: TqdmWarning: IProgress not found. Please update jupyter and ipywidgets. See https://ipywidgets.readthedocs.io/en/stable/user_install.html\n",
      "  from .autonotebook import tqdm as notebook_tqdm\n"
     ]
    }
   ],
   "source": [
    "from hcdt import Clinic\n",
    "import yaml\n",
    "\n",
    "# Make a clinic instance\n",
    "clinic = Clinic()"
   ]
  },
  {
   "cell_type": "markdown",
   "metadata": {},
   "source": [
    "## Load the EHR data to the clinic"
   ]
  },
  {
   "cell_type": "code",
   "execution_count": 2,
   "metadata": {},
   "outputs": [
    {
     "name": "stdout",
     "output_type": "stream",
     "text": [
      "Data loaded successfully to the clinic\n"
     ]
    }
   ],
   "source": [
    "try:\n",
    "    # Load data configuration\n",
    "    with open(\"configs/data_config.yaml\", \"r\") as file:\n",
    "        data_config = yaml.safe_load(file)\n",
    "except FileNotFoundError as e: \n",
    "    print(f\"Error: {e}\")\n",
    "    exit(1)\n",
    "\n",
    "# Load data to the clinic\n",
    "try:\n",
    "    clinic.load_dataset(data_config)\n",
    "except Exception as e:\n",
    "    print(f\"Error: {e}\")\n",
    "    exit(1)\n",
    "print(\"Data loaded successfully to the clinic\")\n"
   ]
  },
  {
   "cell_type": "markdown",
   "metadata": {},
   "source": [
    "## Set the assistant model"
   ]
  },
  {
   "cell_type": "markdown",
   "metadata": {},
   "source": [
    "Loading available models' configuration"
   ]
  },
  {
   "cell_type": "code",
   "execution_count": 3,
   "metadata": {},
   "outputs": [
    {
     "name": "stdout",
     "output_type": "stream",
     "text": [
      "available models:  ['chatgpt', 'medllama3', 'medllama2']\n"
     ]
    }
   ],
   "source": [
    "try:\n",
    "    # Load models configuration\n",
    "    with open(\"configs/models_config.yaml\", \"r\") as file:\n",
    "        models_config = yaml.safe_load(file)\n",
    "except FileNotFoundError as e: \n",
    "    print(f\"Error: {e}\")\n",
    "    exit(1)\n",
    "print(\"available models: \", list(models_config.keys()))"
   ]
  },
  {
   "cell_type": "markdown",
   "metadata": {},
   "source": [
    "Setting the clinic's assistant model "
   ]
  },
  {
   "cell_type": "code",
   "execution_count": 8,
   "metadata": {},
   "outputs": [
    {
     "name": "stdout",
     "output_type": "stream",
     "text": [
      "Model chatgpt loaded successfully to the clinic\n"
     ]
    }
   ],
   "source": [
    "model_name = \"chatgpt\"\n",
    "# Load model to the clinic\n",
    "try:\n",
    "    clinic.set_assistant_model(models_config[model_name])\n",
    "except Exception as e:\n",
    "    print(f\"Error: {e}\")\n",
    "    exit(1)\n",
    "print(f\"Model {model_name} loaded successfully to the clinic\")"
   ]
  },
  {
   "cell_type": "markdown",
   "metadata": {},
   "source": [
    "## Choose a Patient EHR"
   ]
  },
  {
   "cell_type": "markdown",
   "metadata": {},
   "source": [
    "Choosing a random patient"
   ]
  },
  {
   "cell_type": "code",
   "execution_count": 5,
   "metadata": {},
   "outputs": [
    {
     "name": "stdout",
     "output_type": "stream",
     "text": [
      "Patient id: 8908602e-5f0c-4f1e-847f-75a0043eeba7\n"
     ]
    }
   ],
   "source": [
    "from random import choice\n",
    "# choosing a random patient\n",
    "patient_ids = clinic.get_patient_ids()\n",
    "patient_id = choice(patient_ids)\n",
    "print(f\"Patient id: {patient_id}\")"
   ]
  },
  {
   "cell_type": "markdown",
   "metadata": {},
   "source": [
    "## Display the Patient EHR"
   ]
  },
  {
   "cell_type": "markdown",
   "metadata": {},
   "source": [
    "Showing the patient EHR"
   ]
  },
  {
   "cell_type": "code",
   "execution_count": 6,
   "metadata": {},
   "outputs": [
    {
     "name": "stdout",
     "output_type": "stream",
     "text": [
      "Patient Demographics\n"
     ]
    },
    {
     "data": {
      "text/plain": [
       "id            8908602e-5f0c-4f1e-847f-75a0043eeba7\n",
       "first_name                              Carlton317\n",
       "last_name                           Breitenberg711\n",
       "gender                                           M\n",
       "age                                             45\n",
       "dtype: object"
      ]
     },
     "metadata": {},
     "output_type": "display_data"
    },
    {
     "name": "stdout",
     "output_type": "stream",
     "text": [
      "Patient Conditions\n"
     ]
    },
    {
     "data": {
      "text/html": [
       "<div>\n",
       "<style scoped>\n",
       "    .dataframe tbody tr th:only-of-type {\n",
       "        vertical-align: middle;\n",
       "    }\n",
       "\n",
       "    .dataframe tbody tr th {\n",
       "        vertical-align: top;\n",
       "    }\n",
       "\n",
       "    .dataframe thead th {\n",
       "        text-align: right;\n",
       "    }\n",
       "</style>\n",
       "<table border=\"1\" class=\"dataframe\">\n",
       "  <thead>\n",
       "    <tr style=\"text-align: right;\">\n",
       "      <th></th>\n",
       "      <th>START</th>\n",
       "      <th>STOP</th>\n",
       "      <th>DESCRIPTION</th>\n",
       "    </tr>\n",
       "  </thead>\n",
       "  <tbody>\n",
       "    <tr>\n",
       "      <th>0</th>\n",
       "      <td>2001-07-18</td>\n",
       "      <td>NaN</td>\n",
       "      <td>Diabetes</td>\n",
       "    </tr>\n",
       "    <tr>\n",
       "      <th>1</th>\n",
       "      <td>2001-07-18</td>\n",
       "      <td>NaN</td>\n",
       "      <td>Anemia (disorder)</td>\n",
       "    </tr>\n",
       "    <tr>\n",
       "      <th>2</th>\n",
       "      <td>2004-07-21</td>\n",
       "      <td>NaN</td>\n",
       "      <td>Hypertriglyceridemia (disorder)</td>\n",
       "    </tr>\n",
       "    <tr>\n",
       "      <th>3</th>\n",
       "      <td>2004-07-21</td>\n",
       "      <td>NaN</td>\n",
       "      <td>Metabolic syndrome X (disorder)</td>\n",
       "    </tr>\n",
       "    <tr>\n",
       "      <th>4</th>\n",
       "      <td>2017-02-16</td>\n",
       "      <td>2017-03-16</td>\n",
       "      <td>Whiplash injury to neck</td>\n",
       "    </tr>\n",
       "    <tr>\n",
       "      <th>5</th>\n",
       "      <td>2017-05-13</td>\n",
       "      <td>2017-05-27</td>\n",
       "      <td>Viral sinusitis (disorder)</td>\n",
       "    </tr>\n",
       "    <tr>\n",
       "      <th>6</th>\n",
       "      <td>2019-01-05</td>\n",
       "      <td>2019-01-26</td>\n",
       "      <td>Facial laceration</td>\n",
       "    </tr>\n",
       "    <tr>\n",
       "      <th>7</th>\n",
       "      <td>2019-01-13</td>\n",
       "      <td>2019-01-27</td>\n",
       "      <td>Acute bronchitis (disorder)</td>\n",
       "    </tr>\n",
       "    <tr>\n",
       "      <th>8</th>\n",
       "      <td>2020-03-20</td>\n",
       "      <td>2020-04-10</td>\n",
       "      <td>Viral sinusitis (disorder)</td>\n",
       "    </tr>\n",
       "  </tbody>\n",
       "</table>\n",
       "</div>"
      ],
      "text/plain": [
       "        START        STOP                      DESCRIPTION\n",
       "0  2001-07-18         NaN                         Diabetes\n",
       "1  2001-07-18         NaN                Anemia (disorder)\n",
       "2  2004-07-21         NaN  Hypertriglyceridemia (disorder)\n",
       "3  2004-07-21         NaN  Metabolic syndrome X (disorder)\n",
       "4  2017-02-16  2017-03-16          Whiplash injury to neck\n",
       "5  2017-05-13  2017-05-27       Viral sinusitis (disorder)\n",
       "6  2019-01-05  2019-01-26                Facial laceration\n",
       "7  2019-01-13  2019-01-27      Acute bronchitis (disorder)\n",
       "8  2020-03-20  2020-04-10       Viral sinusitis (disorder)"
      ]
     },
     "metadata": {},
     "output_type": "display_data"
    },
    {
     "name": "stdout",
     "output_type": "stream",
     "text": [
      "Patient Encounters\n"
     ]
    },
    {
     "data": {
      "text/html": [
       "<div>\n",
       "<style scoped>\n",
       "    .dataframe tbody tr th:only-of-type {\n",
       "        vertical-align: middle;\n",
       "    }\n",
       "\n",
       "    .dataframe tbody tr th {\n",
       "        vertical-align: top;\n",
       "    }\n",
       "\n",
       "    .dataframe thead th {\n",
       "        text-align: right;\n",
       "    }\n",
       "</style>\n",
       "<table border=\"1\" class=\"dataframe\">\n",
       "  <thead>\n",
       "    <tr style=\"text-align: right;\">\n",
       "      <th></th>\n",
       "      <th>START</th>\n",
       "      <th>STOP</th>\n",
       "      <th>DESCRIPTION</th>\n",
       "      <th>REASONDESCRIPTION</th>\n",
       "    </tr>\n",
       "  </thead>\n",
       "  <tbody>\n",
       "    <tr>\n",
       "      <th>0</th>\n",
       "      <td>2001-07-19T00:01:14Z</td>\n",
       "      <td>2001-07-19T00:16:14Z</td>\n",
       "      <td>General examination of patient (procedure)</td>\n",
       "      <td>NaN</td>\n",
       "    </tr>\n",
       "    <tr>\n",
       "      <th>1</th>\n",
       "      <td>2004-07-22T00:01:14Z</td>\n",
       "      <td>2004-07-22T00:31:14Z</td>\n",
       "      <td>General examination of patient (procedure)</td>\n",
       "      <td>NaN</td>\n",
       "    </tr>\n",
       "    <tr>\n",
       "      <th>2</th>\n",
       "      <td>2009-08-09T00:01:14Z</td>\n",
       "      <td>2009-08-09T00:16:14Z</td>\n",
       "      <td>Encounter for symptom</td>\n",
       "      <td>Acute bronchitis (disorder)</td>\n",
       "    </tr>\n",
       "    <tr>\n",
       "      <th>3</th>\n",
       "      <td>2010-07-29T00:01:14Z</td>\n",
       "      <td>2010-07-29T00:31:14Z</td>\n",
       "      <td>General examination of patient (procedure)</td>\n",
       "      <td>NaN</td>\n",
       "    </tr>\n",
       "    <tr>\n",
       "      <th>4</th>\n",
       "      <td>2013-08-01T00:01:14Z</td>\n",
       "      <td>2013-08-01T00:16:14Z</td>\n",
       "      <td>General examination of patient (procedure)</td>\n",
       "      <td>NaN</td>\n",
       "    </tr>\n",
       "    <tr>\n",
       "      <th>5</th>\n",
       "      <td>2016-08-04T00:01:14Z</td>\n",
       "      <td>2016-08-04T00:31:14Z</td>\n",
       "      <td>General examination of patient (procedure)</td>\n",
       "      <td>NaN</td>\n",
       "    </tr>\n",
       "    <tr>\n",
       "      <th>6</th>\n",
       "      <td>2017-02-17T00:01:14Z</td>\n",
       "      <td>2017-02-17T01:01:14Z</td>\n",
       "      <td>Emergency room admission (procedure)</td>\n",
       "      <td>NaN</td>\n",
       "    </tr>\n",
       "    <tr>\n",
       "      <th>7</th>\n",
       "      <td>2017-05-14T00:01:14Z</td>\n",
       "      <td>2017-05-14T00:16:14Z</td>\n",
       "      <td>Encounter for symptom</td>\n",
       "      <td>Viral sinusitis (disorder)</td>\n",
       "    </tr>\n",
       "    <tr>\n",
       "      <th>8</th>\n",
       "      <td>2019-01-06T00:01:14Z</td>\n",
       "      <td>2019-01-06T01:19:14Z</td>\n",
       "      <td>Emergency room admission (procedure)</td>\n",
       "      <td>NaN</td>\n",
       "    </tr>\n",
       "    <tr>\n",
       "      <th>9</th>\n",
       "      <td>2019-01-14T00:01:14Z</td>\n",
       "      <td>2019-01-14T00:29:14Z</td>\n",
       "      <td>Encounter for symptom</td>\n",
       "      <td>Acute bronchitis (disorder)</td>\n",
       "    </tr>\n",
       "    <tr>\n",
       "      <th>10</th>\n",
       "      <td>2019-05-23T00:01:14Z</td>\n",
       "      <td>2019-05-23T00:16:14Z</td>\n",
       "      <td>General examination of patient (procedure)</td>\n",
       "      <td>NaN</td>\n",
       "    </tr>\n",
       "    <tr>\n",
       "      <th>11</th>\n",
       "      <td>2020-03-21T00:01:14Z</td>\n",
       "      <td>2020-03-21T00:16:14Z</td>\n",
       "      <td>Encounter for symptom</td>\n",
       "      <td>Viral sinusitis (disorder)</td>\n",
       "    </tr>\n",
       "  </tbody>\n",
       "</table>\n",
       "</div>"
      ],
      "text/plain": [
       "                   START                  STOP  \\\n",
       "0   2001-07-19T00:01:14Z  2001-07-19T00:16:14Z   \n",
       "1   2004-07-22T00:01:14Z  2004-07-22T00:31:14Z   \n",
       "2   2009-08-09T00:01:14Z  2009-08-09T00:16:14Z   \n",
       "3   2010-07-29T00:01:14Z  2010-07-29T00:31:14Z   \n",
       "4   2013-08-01T00:01:14Z  2013-08-01T00:16:14Z   \n",
       "5   2016-08-04T00:01:14Z  2016-08-04T00:31:14Z   \n",
       "6   2017-02-17T00:01:14Z  2017-02-17T01:01:14Z   \n",
       "7   2017-05-14T00:01:14Z  2017-05-14T00:16:14Z   \n",
       "8   2019-01-06T00:01:14Z  2019-01-06T01:19:14Z   \n",
       "9   2019-01-14T00:01:14Z  2019-01-14T00:29:14Z   \n",
       "10  2019-05-23T00:01:14Z  2019-05-23T00:16:14Z   \n",
       "11  2020-03-21T00:01:14Z  2020-03-21T00:16:14Z   \n",
       "\n",
       "                                   DESCRIPTION            REASONDESCRIPTION  \n",
       "0   General examination of patient (procedure)                          NaN  \n",
       "1   General examination of patient (procedure)                          NaN  \n",
       "2                        Encounter for symptom  Acute bronchitis (disorder)  \n",
       "3   General examination of patient (procedure)                          NaN  \n",
       "4   General examination of patient (procedure)                          NaN  \n",
       "5   General examination of patient (procedure)                          NaN  \n",
       "6         Emergency room admission (procedure)                          NaN  \n",
       "7                        Encounter for symptom   Viral sinusitis (disorder)  \n",
       "8         Emergency room admission (procedure)                          NaN  \n",
       "9                        Encounter for symptom  Acute bronchitis (disorder)  \n",
       "10  General examination of patient (procedure)                          NaN  \n",
       "11                       Encounter for symptom   Viral sinusitis (disorder)  "
      ]
     },
     "metadata": {},
     "output_type": "display_data"
    },
    {
     "name": "stdout",
     "output_type": "stream",
     "text": [
      "Patient Medications\n"
     ]
    },
    {
     "data": {
      "text/html": [
       "<div>\n",
       "<style scoped>\n",
       "    .dataframe tbody tr th:only-of-type {\n",
       "        vertical-align: middle;\n",
       "    }\n",
       "\n",
       "    .dataframe tbody tr th {\n",
       "        vertical-align: top;\n",
       "    }\n",
       "\n",
       "    .dataframe thead th {\n",
       "        text-align: right;\n",
       "    }\n",
       "</style>\n",
       "<table border=\"1\" class=\"dataframe\">\n",
       "  <thead>\n",
       "    <tr style=\"text-align: right;\">\n",
       "      <th></th>\n",
       "      <th>START</th>\n",
       "      <th>STOP</th>\n",
       "      <th>DESCRIPTION</th>\n",
       "      <th>REASONDESCRIPTION</th>\n",
       "    </tr>\n",
       "  </thead>\n",
       "  <tbody>\n",
       "    <tr>\n",
       "      <th>0</th>\n",
       "      <td>2017-02-17T00:01:14Z</td>\n",
       "      <td>2017-03-17T00:01:14Z</td>\n",
       "      <td>Ibuprofen 200 MG Oral Tablet</td>\n",
       "      <td>NaN</td>\n",
       "    </tr>\n",
       "    <tr>\n",
       "      <th>1</th>\n",
       "      <td>2019-01-06T00:01:14Z</td>\n",
       "      <td>2019-01-27T00:01:14Z</td>\n",
       "      <td>Naproxen sodium 220 MG Oral Tablet</td>\n",
       "      <td>NaN</td>\n",
       "    </tr>\n",
       "    <tr>\n",
       "      <th>2</th>\n",
       "      <td>2019-01-14T00:01:14Z</td>\n",
       "      <td>2019-01-28T00:01:14Z</td>\n",
       "      <td>Acetaminophen 21.7 MG/ML / Dextromethorphan Hy...</td>\n",
       "      <td>Acute bronchitis (disorder)</td>\n",
       "    </tr>\n",
       "    <tr>\n",
       "      <th>3</th>\n",
       "      <td>2019-05-23T00:01:14Z</td>\n",
       "      <td>2019-05-23T00:01:14Z</td>\n",
       "      <td>24 HR Metformin hydrochloride 500 MG Extended ...</td>\n",
       "      <td>Diabetes</td>\n",
       "    </tr>\n",
       "    <tr>\n",
       "      <th>4</th>\n",
       "      <td>2019-05-23T00:01:14Z</td>\n",
       "      <td>NaN</td>\n",
       "      <td>24 HR Metformin hydrochloride 500 MG Extended ...</td>\n",
       "      <td>Diabetes</td>\n",
       "    </tr>\n",
       "  </tbody>\n",
       "</table>\n",
       "</div>"
      ],
      "text/plain": [
       "                  START                  STOP  \\\n",
       "0  2017-02-17T00:01:14Z  2017-03-17T00:01:14Z   \n",
       "1  2019-01-06T00:01:14Z  2019-01-27T00:01:14Z   \n",
       "2  2019-01-14T00:01:14Z  2019-01-28T00:01:14Z   \n",
       "3  2019-05-23T00:01:14Z  2019-05-23T00:01:14Z   \n",
       "4  2019-05-23T00:01:14Z                   NaN   \n",
       "\n",
       "                                         DESCRIPTION  \\\n",
       "0                       Ibuprofen 200 MG Oral Tablet   \n",
       "1                 Naproxen sodium 220 MG Oral Tablet   \n",
       "2  Acetaminophen 21.7 MG/ML / Dextromethorphan Hy...   \n",
       "3  24 HR Metformin hydrochloride 500 MG Extended ...   \n",
       "4  24 HR Metformin hydrochloride 500 MG Extended ...   \n",
       "\n",
       "             REASONDESCRIPTION  \n",
       "0                          NaN  \n",
       "1                          NaN  \n",
       "2  Acute bronchitis (disorder)  \n",
       "3                     Diabetes  \n",
       "4                     Diabetes  "
      ]
     },
     "metadata": {},
     "output_type": "display_data"
    },
    {
     "name": "stdout",
     "output_type": "stream",
     "text": [
      "Patient Observations\n"
     ]
    },
    {
     "data": {
      "text/html": [
       "<div>\n",
       "<style scoped>\n",
       "    .dataframe tbody tr th:only-of-type {\n",
       "        vertical-align: middle;\n",
       "    }\n",
       "\n",
       "    .dataframe tbody tr th {\n",
       "        vertical-align: top;\n",
       "    }\n",
       "\n",
       "    .dataframe thead th {\n",
       "        text-align: right;\n",
       "    }\n",
       "</style>\n",
       "<table border=\"1\" class=\"dataframe\">\n",
       "  <thead>\n",
       "    <tr style=\"text-align: right;\">\n",
       "      <th></th>\n",
       "      <th>DATE</th>\n",
       "      <th>DESCRIPTION</th>\n",
       "      <th>VALUE</th>\n",
       "      <th>UNITS</th>\n",
       "    </tr>\n",
       "  </thead>\n",
       "  <tbody>\n",
       "    <tr>\n",
       "      <th>0</th>\n",
       "      <td>2010-07-29T00:01:14Z</td>\n",
       "      <td>Body Height</td>\n",
       "      <td>178.6</td>\n",
       "      <td>cm</td>\n",
       "    </tr>\n",
       "    <tr>\n",
       "      <th>1</th>\n",
       "      <td>2010-07-29T00:01:14Z</td>\n",
       "      <td>Pain severity - 0-10 verbal numeric rating [Sc...</td>\n",
       "      <td>1.0</td>\n",
       "      <td>{score}</td>\n",
       "    </tr>\n",
       "    <tr>\n",
       "      <th>2</th>\n",
       "      <td>2010-07-29T00:01:14Z</td>\n",
       "      <td>Body Weight</td>\n",
       "      <td>91.3</td>\n",
       "      <td>kg</td>\n",
       "    </tr>\n",
       "    <tr>\n",
       "      <th>3</th>\n",
       "      <td>2010-07-29T00:01:14Z</td>\n",
       "      <td>Body Mass Index</td>\n",
       "      <td>28.6</td>\n",
       "      <td>kg/m2</td>\n",
       "    </tr>\n",
       "    <tr>\n",
       "      <th>4</th>\n",
       "      <td>2010-07-29T00:01:14Z</td>\n",
       "      <td>Diastolic Blood Pressure</td>\n",
       "      <td>76.0</td>\n",
       "      <td>mm[Hg]</td>\n",
       "    </tr>\n",
       "    <tr>\n",
       "      <th>...</th>\n",
       "      <td>...</td>\n",
       "      <td>...</td>\n",
       "      <td>...</td>\n",
       "      <td>...</td>\n",
       "    </tr>\n",
       "    <tr>\n",
       "      <th>143</th>\n",
       "      <td>2015-05-17T00:01:14Z</td>\n",
       "      <td>QOLS</td>\n",
       "      <td>1.0</td>\n",
       "      <td>{score}</td>\n",
       "    </tr>\n",
       "    <tr>\n",
       "      <th>144</th>\n",
       "      <td>2016-05-17T00:01:14Z</td>\n",
       "      <td>QOLS</td>\n",
       "      <td>1.0</td>\n",
       "      <td>{score}</td>\n",
       "    </tr>\n",
       "    <tr>\n",
       "      <th>145</th>\n",
       "      <td>2017-05-17T00:01:14Z</td>\n",
       "      <td>QOLS</td>\n",
       "      <td>1.0</td>\n",
       "      <td>{score}</td>\n",
       "    </tr>\n",
       "    <tr>\n",
       "      <th>146</th>\n",
       "      <td>2018-05-17T00:01:14Z</td>\n",
       "      <td>QOLS</td>\n",
       "      <td>0.9</td>\n",
       "      <td>{score}</td>\n",
       "    </tr>\n",
       "    <tr>\n",
       "      <th>147</th>\n",
       "      <td>2019-05-17T00:01:14Z</td>\n",
       "      <td>QOLS</td>\n",
       "      <td>1.0</td>\n",
       "      <td>{score}</td>\n",
       "    </tr>\n",
       "  </tbody>\n",
       "</table>\n",
       "<p>148 rows × 4 columns</p>\n",
       "</div>"
      ],
      "text/plain": [
       "                     DATE                                        DESCRIPTION  \\\n",
       "0    2010-07-29T00:01:14Z                                        Body Height   \n",
       "1    2010-07-29T00:01:14Z  Pain severity - 0-10 verbal numeric rating [Sc...   \n",
       "2    2010-07-29T00:01:14Z                                        Body Weight   \n",
       "3    2010-07-29T00:01:14Z                                    Body Mass Index   \n",
       "4    2010-07-29T00:01:14Z                           Diastolic Blood Pressure   \n",
       "..                    ...                                                ...   \n",
       "143  2015-05-17T00:01:14Z                                               QOLS   \n",
       "144  2016-05-17T00:01:14Z                                               QOLS   \n",
       "145  2017-05-17T00:01:14Z                                               QOLS   \n",
       "146  2018-05-17T00:01:14Z                                               QOLS   \n",
       "147  2019-05-17T00:01:14Z                                               QOLS   \n",
       "\n",
       "     VALUE    UNITS  \n",
       "0    178.6       cm  \n",
       "1      1.0  {score}  \n",
       "2     91.3       kg  \n",
       "3     28.6    kg/m2  \n",
       "4     76.0   mm[Hg]  \n",
       "..     ...      ...  \n",
       "143    1.0  {score}  \n",
       "144    1.0  {score}  \n",
       "145    1.0  {score}  \n",
       "146    0.9  {score}  \n",
       "147    1.0  {score}  \n",
       "\n",
       "[148 rows x 4 columns]"
      ]
     },
     "metadata": {},
     "output_type": "display_data"
    },
    {
     "name": "stdout",
     "output_type": "stream",
     "text": [
      "Patient Allergies\n"
     ]
    },
    {
     "data": {
      "text/html": [
       "<div>\n",
       "<style scoped>\n",
       "    .dataframe tbody tr th:only-of-type {\n",
       "        vertical-align: middle;\n",
       "    }\n",
       "\n",
       "    .dataframe tbody tr th {\n",
       "        vertical-align: top;\n",
       "    }\n",
       "\n",
       "    .dataframe thead th {\n",
       "        text-align: right;\n",
       "    }\n",
       "</style>\n",
       "<table border=\"1\" class=\"dataframe\">\n",
       "  <thead>\n",
       "    <tr style=\"text-align: right;\">\n",
       "      <th></th>\n",
       "    </tr>\n",
       "  </thead>\n",
       "  <tbody>\n",
       "  </tbody>\n",
       "</table>\n",
       "</div>"
      ],
      "text/plain": [
       "Empty DataFrame\n",
       "Columns: []\n",
       "Index: []"
      ]
     },
     "metadata": {},
     "output_type": "display_data"
    },
    {
     "name": "stdout",
     "output_type": "stream",
     "text": [
      "Patient Careplans\n"
     ]
    },
    {
     "data": {
      "text/html": [
       "<div>\n",
       "<style scoped>\n",
       "    .dataframe tbody tr th:only-of-type {\n",
       "        vertical-align: middle;\n",
       "    }\n",
       "\n",
       "    .dataframe tbody tr th {\n",
       "        vertical-align: top;\n",
       "    }\n",
       "\n",
       "    .dataframe thead th {\n",
       "        text-align: right;\n",
       "    }\n",
       "</style>\n",
       "<table border=\"1\" class=\"dataframe\">\n",
       "  <thead>\n",
       "    <tr style=\"text-align: right;\">\n",
       "      <th></th>\n",
       "      <th>START</th>\n",
       "      <th>STOP</th>\n",
       "      <th>DESCRIPTION</th>\n",
       "      <th>REASONDESCRIPTION</th>\n",
       "    </tr>\n",
       "  </thead>\n",
       "  <tbody>\n",
       "    <tr>\n",
       "      <th>0</th>\n",
       "      <td>2001-07-18</td>\n",
       "      <td>NaN</td>\n",
       "      <td>Diabetes self management plan</td>\n",
       "      <td>Diabetes</td>\n",
       "    </tr>\n",
       "    <tr>\n",
       "      <th>1</th>\n",
       "      <td>2009-08-08</td>\n",
       "      <td>2010-07-28</td>\n",
       "      <td>Respiratory therapy</td>\n",
       "      <td>Acute bronchitis (disorder)</td>\n",
       "    </tr>\n",
       "    <tr>\n",
       "      <th>2</th>\n",
       "      <td>2017-02-16</td>\n",
       "      <td>2017-03-16</td>\n",
       "      <td>Musculoskeletal care</td>\n",
       "      <td>Whiplash injury to neck</td>\n",
       "    </tr>\n",
       "    <tr>\n",
       "      <th>3</th>\n",
       "      <td>2019-01-05</td>\n",
       "      <td>2019-01-26</td>\n",
       "      <td>Wound care</td>\n",
       "      <td>Facial laceration</td>\n",
       "    </tr>\n",
       "    <tr>\n",
       "      <th>4</th>\n",
       "      <td>2019-01-13</td>\n",
       "      <td>2019-05-22</td>\n",
       "      <td>Respiratory therapy</td>\n",
       "      <td>Acute bronchitis (disorder)</td>\n",
       "    </tr>\n",
       "  </tbody>\n",
       "</table>\n",
       "</div>"
      ],
      "text/plain": [
       "        START        STOP                    DESCRIPTION  \\\n",
       "0  2001-07-18         NaN  Diabetes self management plan   \n",
       "1  2009-08-08  2010-07-28            Respiratory therapy   \n",
       "2  2017-02-16  2017-03-16           Musculoskeletal care   \n",
       "3  2019-01-05  2019-01-26                     Wound care   \n",
       "4  2019-01-13  2019-05-22            Respiratory therapy   \n",
       "\n",
       "             REASONDESCRIPTION  \n",
       "0                     Diabetes  \n",
       "1  Acute bronchitis (disorder)  \n",
       "2      Whiplash injury to neck  \n",
       "3            Facial laceration  \n",
       "4  Acute bronchitis (disorder)  "
      ]
     },
     "metadata": {},
     "output_type": "display_data"
    },
    {
     "name": "stdout",
     "output_type": "stream",
     "text": [
      "Patient Immunizations\n"
     ]
    },
    {
     "data": {
      "text/html": [
       "<div>\n",
       "<style scoped>\n",
       "    .dataframe tbody tr th:only-of-type {\n",
       "        vertical-align: middle;\n",
       "    }\n",
       "\n",
       "    .dataframe tbody tr th {\n",
       "        vertical-align: top;\n",
       "    }\n",
       "\n",
       "    .dataframe thead th {\n",
       "        text-align: right;\n",
       "    }\n",
       "</style>\n",
       "<table border=\"1\" class=\"dataframe\">\n",
       "  <thead>\n",
       "    <tr style=\"text-align: right;\">\n",
       "      <th></th>\n",
       "      <th>DATE</th>\n",
       "      <th>DESCRIPTION</th>\n",
       "    </tr>\n",
       "  </thead>\n",
       "  <tbody>\n",
       "    <tr>\n",
       "      <th>0</th>\n",
       "      <td>2010-07-29T00:01:14Z</td>\n",
       "      <td>Influenza  seasonal  injectable  preservative ...</td>\n",
       "    </tr>\n",
       "    <tr>\n",
       "      <th>1</th>\n",
       "      <td>2010-07-29T00:01:14Z</td>\n",
       "      <td>Td (adult) preservative free</td>\n",
       "    </tr>\n",
       "    <tr>\n",
       "      <th>2</th>\n",
       "      <td>2013-08-01T00:01:14Z</td>\n",
       "      <td>Influenza  seasonal  injectable  preservative ...</td>\n",
       "    </tr>\n",
       "    <tr>\n",
       "      <th>3</th>\n",
       "      <td>2016-08-04T00:01:14Z</td>\n",
       "      <td>Influenza  seasonal  injectable  preservative ...</td>\n",
       "    </tr>\n",
       "    <tr>\n",
       "      <th>4</th>\n",
       "      <td>2019-05-23T00:01:14Z</td>\n",
       "      <td>Influenza  seasonal  injectable  preservative ...</td>\n",
       "    </tr>\n",
       "    <tr>\n",
       "      <th>5</th>\n",
       "      <td>2019-05-23T00:01:14Z</td>\n",
       "      <td>Hep A  adult</td>\n",
       "    </tr>\n",
       "  </tbody>\n",
       "</table>\n",
       "</div>"
      ],
      "text/plain": [
       "                   DATE                                        DESCRIPTION\n",
       "0  2010-07-29T00:01:14Z  Influenza  seasonal  injectable  preservative ...\n",
       "1  2010-07-29T00:01:14Z                       Td (adult) preservative free\n",
       "2  2013-08-01T00:01:14Z  Influenza  seasonal  injectable  preservative ...\n",
       "3  2016-08-04T00:01:14Z  Influenza  seasonal  injectable  preservative ...\n",
       "4  2019-05-23T00:01:14Z  Influenza  seasonal  injectable  preservative ...\n",
       "5  2019-05-23T00:01:14Z                                       Hep A  adult"
      ]
     },
     "metadata": {},
     "output_type": "display_data"
    },
    {
     "name": "stdout",
     "output_type": "stream",
     "text": [
      "Patient Procedures\n"
     ]
    },
    {
     "data": {
      "text/html": [
       "<div>\n",
       "<style scoped>\n",
       "    .dataframe tbody tr th:only-of-type {\n",
       "        vertical-align: middle;\n",
       "    }\n",
       "\n",
       "    .dataframe tbody tr th {\n",
       "        vertical-align: top;\n",
       "    }\n",
       "\n",
       "    .dataframe thead th {\n",
       "        text-align: right;\n",
       "    }\n",
       "</style>\n",
       "<table border=\"1\" class=\"dataframe\">\n",
       "  <thead>\n",
       "    <tr style=\"text-align: right;\">\n",
       "      <th></th>\n",
       "      <th>DATE</th>\n",
       "      <th>DESCRIPTION</th>\n",
       "      <th>REASONDESCRIPTION</th>\n",
       "    </tr>\n",
       "  </thead>\n",
       "  <tbody>\n",
       "    <tr>\n",
       "      <th>0</th>\n",
       "      <td>2010-07-29T00:01:14Z</td>\n",
       "      <td>Medication Reconciliation (procedure)</td>\n",
       "      <td>NaN</td>\n",
       "    </tr>\n",
       "    <tr>\n",
       "      <th>1</th>\n",
       "      <td>2016-08-04T00:01:14Z</td>\n",
       "      <td>Medication Reconciliation (procedure)</td>\n",
       "      <td>NaN</td>\n",
       "    </tr>\n",
       "    <tr>\n",
       "      <th>2</th>\n",
       "      <td>2019-01-06T00:01:14Z</td>\n",
       "      <td>Suture open wound</td>\n",
       "      <td>Facial laceration</td>\n",
       "    </tr>\n",
       "    <tr>\n",
       "      <th>3</th>\n",
       "      <td>2019-01-14T00:01:14Z</td>\n",
       "      <td>Measurement of respiratory function (procedure)</td>\n",
       "      <td>Acute bronchitis (disorder)</td>\n",
       "    </tr>\n",
       "  </tbody>\n",
       "</table>\n",
       "</div>"
      ],
      "text/plain": [
       "                   DATE                                      DESCRIPTION  \\\n",
       "0  2010-07-29T00:01:14Z            Medication Reconciliation (procedure)   \n",
       "1  2016-08-04T00:01:14Z            Medication Reconciliation (procedure)   \n",
       "2  2019-01-06T00:01:14Z                                Suture open wound   \n",
       "3  2019-01-14T00:01:14Z  Measurement of respiratory function (procedure)   \n",
       "\n",
       "             REASONDESCRIPTION  \n",
       "0                          NaN  \n",
       "1                          NaN  \n",
       "2            Facial laceration  \n",
       "3  Acute bronchitis (disorder)  "
      ]
     },
     "metadata": {},
     "output_type": "display_data"
    },
    {
     "name": "stdout",
     "output_type": "stream",
     "text": [
      "Patient Devices\n"
     ]
    },
    {
     "data": {
      "text/html": [
       "<div>\n",
       "<style scoped>\n",
       "    .dataframe tbody tr th:only-of-type {\n",
       "        vertical-align: middle;\n",
       "    }\n",
       "\n",
       "    .dataframe tbody tr th {\n",
       "        vertical-align: top;\n",
       "    }\n",
       "\n",
       "    .dataframe thead th {\n",
       "        text-align: right;\n",
       "    }\n",
       "</style>\n",
       "<table border=\"1\" class=\"dataframe\">\n",
       "  <thead>\n",
       "    <tr style=\"text-align: right;\">\n",
       "      <th></th>\n",
       "    </tr>\n",
       "  </thead>\n",
       "  <tbody>\n",
       "  </tbody>\n",
       "</table>\n",
       "</div>"
      ],
      "text/plain": [
       "Empty DataFrame\n",
       "Columns: []\n",
       "Index: []"
      ]
     },
     "metadata": {},
     "output_type": "display_data"
    },
    {
     "name": "stdout",
     "output_type": "stream",
     "text": [
      "Patient Imaging Studies\n"
     ]
    },
    {
     "data": {
      "text/html": [
       "<div>\n",
       "<style scoped>\n",
       "    .dataframe tbody tr th:only-of-type {\n",
       "        vertical-align: middle;\n",
       "    }\n",
       "\n",
       "    .dataframe tbody tr th {\n",
       "        vertical-align: top;\n",
       "    }\n",
       "\n",
       "    .dataframe thead th {\n",
       "        text-align: right;\n",
       "    }\n",
       "</style>\n",
       "<table border=\"1\" class=\"dataframe\">\n",
       "  <thead>\n",
       "    <tr style=\"text-align: right;\">\n",
       "      <th></th>\n",
       "    </tr>\n",
       "  </thead>\n",
       "  <tbody>\n",
       "  </tbody>\n",
       "</table>\n",
       "</div>"
      ],
      "text/plain": [
       "Empty DataFrame\n",
       "Columns: []\n",
       "Index: []"
      ]
     },
     "metadata": {},
     "output_type": "display_data"
    }
   ],
   "source": [
    "from IPython.display import display\n",
    "# Getting patient data\n",
    "patient_demographics = clinic.get_patient_info(patient_id)\n",
    "patient_conditions = clinic.get_patient_conditions(patient_id)\n",
    "patient_encounters = clinic.get_patient_encounters(patient_id)\n",
    "patient_medications = clinic.get_patient_medications(patient_id)\n",
    "patient_observations = clinic.get_patient_observations(patient_id)\n",
    "patient_allergies = clinic.get_patient_allergies(patient_id)\n",
    "patient_careplans = clinic.get_patient_careplans(patient_id)\n",
    "patient_immunizations = clinic.get_patient_immunizations(patient_id)\n",
    "patient_procedures = clinic.get_patient_procedures(patient_id)\n",
    "patient_devices = clinic.get_patient_devices(patient_id)\n",
    "patient_imaging_studies = clinic.get_patient_imaging_studies(patient_id)\n",
    "\n",
    "# Displaying patient data\n",
    "print(\"Patient Demographics\")\n",
    "display(patient_demographics)\n",
    "print(\"Patient Conditions\") \n",
    "display(patient_conditions)\n",
    "print(\"Patient Encounters\")\n",
    "display(patient_encounters)\n",
    "print(\"Patient Medications\")\n",
    "display(patient_medications)\n",
    "print(\"Patient Observations\")\n",
    "display(patient_observations)\n",
    "print(\"Patient Allergies\")\n",
    "display(patient_allergies)\n",
    "print(\"Patient Careplans\")\n",
    "display(patient_careplans)\n",
    "print(\"Patient Immunizations\")\n",
    "display(patient_immunizations)\n",
    "print(\"Patient Procedures\")\n",
    "display(patient_procedures)\n",
    "print(\"Patient Devices\")\n",
    "display(patient_devices)\n",
    "print(\"Patient Imaging Studies\")\n",
    "display(patient_imaging_studies)\n"
   ]
  },
  {
   "cell_type": "markdown",
   "metadata": {},
   "source": [
    "## Clinic Functionalities"
   ]
  },
  {
   "cell_type": "markdown",
   "metadata": {},
   "source": [
    "Predict disease risk"
   ]
  },
  {
   "cell_type": "code",
   "execution_count": 9,
   "metadata": {},
   "outputs": [
    {
     "name": "stdout",
     "output_type": "stream",
     "text": [
      "{'disease_risk': [{'disease': 'Cardiovascular disease', 'risk_probability': 0.7, 'reasoning': 'The patient has a history of Metabolic syndrome X, which often increases the risk of cardiovascular disease. Diabetes and high triglyceride levels (Hypertriglyceridemia) observed in the patient can further increase this risk.'}, {'disease': 'Chronic kidney disease', 'risk_probability': 0.6, 'reasoning': 'Long-term Diabetes can lead to kidney damage, increasing the risk of chronic kidney diseases. Anemia may also be an indication of chronic kidney diseases.'}, {'disease': 'Stroke', 'risk_probability': 0.5, 'reasoning': 'The combination of Diabetes, Metabolic syndrome X and Hypertriglyceridemia increases the risk of Stroke.'}, {'disease': 'Hyperglycemia', 'risk_probability': 0.6, 'reasoning': 'Use of Metformin medication to manage Diabetes indicates the risk of hyperglycemia.'}]}\n"
     ]
    }
   ],
   "source": [
    "print(clinic.predict_disease_risk(patient_id))"
   ]
  }
 ],
 "metadata": {
  "kernelspec": {
   "display_name": "hcdt",
   "language": "python",
   "name": "python3"
  },
  "language_info": {
   "codemirror_mode": {
    "name": "ipython",
    "version": 3
   },
   "file_extension": ".py",
   "mimetype": "text/x-python",
   "name": "python",
   "nbconvert_exporter": "python",
   "pygments_lexer": "ipython3",
   "version": "3.13.2"
  }
 },
 "nbformat": 4,
 "nbformat_minor": 2
}
